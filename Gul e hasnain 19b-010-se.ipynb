{
 "cells": [
  {
   "cell_type": "markdown",
   "metadata": {},
   "source": [
    "# Gul e Hasnain assignment 19b-010-se section A"
   ]
  },
  {
   "cell_type": "code",
   "execution_count": 1,
   "metadata": {},
   "outputs": [
    {
     "name": "stdout",
     "output_type": "stream",
     "text": [
      "10\n"
     ]
    }
   ],
   "source": [
    "#1\n",
    "a = 3\n",
    "b = 7\n",
    "result = a + b\n",
    "print(result)"
   ]
  },
  {
   "cell_type": "code",
   "execution_count": 3,
   "metadata": {},
   "outputs": [
    {
     "name": "stdout",
     "output_type": "stream",
     "text": [
      "6\n"
     ]
    }
   ],
   "source": [
    "#2\n",
    "a = 3\n",
    "b = 2\n",
    "result = a * b\n",
    "print(result)"
   ]
  },
  {
   "cell_type": "code",
   "execution_count": null,
   "metadata": {},
   "outputs": [],
   "source": [
    "#3\n",
    "a = 5\n",
    "b = 2\n",
    "result = a / b\n",
    "print(result)"
   ]
  },
  {
   "cell_type": "code",
   "execution_count": null,
   "metadata": {},
   "outputs": [],
   "source": [
    "#4\n",
    "a = 4\n",
    "b = 2\n",
    "result = a / b\n",
    "print(result)"
   ]
  },
  {
   "cell_type": "code",
   "execution_count": 4,
   "metadata": {},
   "outputs": [
    {
     "name": "stdout",
     "output_type": "stream",
     "text": [
      "7\n",
      "12\n",
      "0.3323846153846154\n",
      "2\n"
     ]
    }
   ],
   "source": [
    "# 5\n",
    "print((2 * 3) + 1)\n",
    "print((3 + 1) * 3)\n",
    "print(4.321 / (3 + 10))\n",
    "print((3 - 2) + 1)"
   ]
  },
  {
   "cell_type": "code",
   "execution_count": 5,
   "metadata": {},
   "outputs": [
    {
     "name": "stdout",
     "output_type": "stream",
     "text": [
      "8\n",
      "16\n",
      "4\n",
      "2\n"
     ]
    }
   ],
   "source": [
    "# 6\n",
    "print(2 ** 3)\n",
    "print(2 ** 4)\n",
    "print(14 // 3)\n",
    "print(14 % 3)"
   ]
  },
  {
   "cell_type": "code",
   "execution_count": 6,
   "metadata": {},
   "outputs": [
    {
     "data": {
      "text/plain": [
       "4"
      ]
     },
     "execution_count": 6,
     "metadata": {},
     "output_type": "execute_result"
    }
   ],
   "source": [
    "# 7\n",
    "def f(x):\n",
    "    result = x + 1\n",
    "    return result\n",
    "f(3)"
   ]
  },
  {
   "cell_type": "code",
   "execution_count": 7,
   "metadata": {},
   "outputs": [
    {
     "name": "stdout",
     "output_type": "stream",
     "text": [
      "4\n",
      "4\n",
      "3.2\n"
     ]
    }
   ],
   "source": [
    "# 8\n",
    "print(abs(-4))\n",
    "print(abs(4))\n",
    "print(abs(-3.2))"
   ]
  },
  {
   "cell_type": "code",
   "execution_count": 9,
   "metadata": {},
   "outputs": [
    {
     "name": "stdout",
     "output_type": "stream",
     "text": [
      "-2\n",
      "6\n",
      "-4\n",
      "26.5\n"
     ]
    }
   ],
   "source": [
    "# 9\n",
    "print(min(6, -2))\n",
    "print(max(6, -2))\n",
    "print(min(2, -4, 6, -2))\n",
    "print(max(12, 26.5, 3.5))"
   ]
  },
  {
   "cell_type": "code",
   "execution_count": 12,
   "metadata": {},
   "outputs": [
    {
     "name": "stdout",
     "output_type": "stream",
     "text": [
      "15\n"
     ]
    }
   ],
   "source": [
    "# exercise 2.1\n",
    "# part a\n",
    "print(1 + 2 + 3 + 4 + 5)"
   ]
  },
  {
   "cell_type": "code",
   "execution_count": 11,
   "metadata": {},
   "outputs": [
    {
     "name": "stdout",
     "output_type": "stream",
     "text": [
      "Enter sara age: 23\n",
      "Enter mark age: 19\n",
      "Enter fatima age: 31\n",
      "24.333333333333332\n"
     ]
    }
   ],
   "source": [
    "# part b\n",
    "sara_age = eval(input(\"Enter sara age: \"))\n",
    "mark_age = eval(input(\"Enter mark age: \"))\n",
    "fatima_age = eval(input(\"Enter fatima age: \"))\n",
    "average = ((sara_age + mark_age + fatima_age) / 3)\n",
    "print(average)"
   ]
  },
  {
   "cell_type": "code",
   "execution_count": 24,
   "metadata": {},
   "outputs": [
    {
     "name": "stdout",
     "output_type": "stream",
     "text": [
      "5\n"
     ]
    }
   ],
   "source": [
    "# part c\n",
    "print(403 // 73)"
   ]
  },
  {
   "cell_type": "code",
   "execution_count": 25,
   "metadata": {},
   "outputs": [
    {
     "name": "stdout",
     "output_type": "stream",
     "text": [
      "38\n"
     ]
    }
   ],
   "source": [
    "# part d\n",
    "print(403 % 73)"
   ]
  },
  {
   "cell_type": "code",
   "execution_count": 27,
   "metadata": {},
   "outputs": [
    {
     "name": "stdout",
     "output_type": "stream",
     "text": [
      "two to the power 10 is:  1024\n"
     ]
    }
   ],
   "source": [
    "# part e\n",
    "print(\"two to the power 10 is: \", 2 ** 10)"
   ]
  },
  {
   "cell_type": "code",
   "execution_count": 29,
   "metadata": {},
   "outputs": [
    {
     "name": "stdout",
     "output_type": "stream",
     "text": [
      "enter sara height: 54\n",
      "enter mark height: 57\n",
      "3\n"
     ]
    }
   ],
   "source": [
    "# part f\n",
    "sara_height = eval(input(\"enter sara height: \"))\n",
    "mark_height = eval(input(\"enter mark height: \"))\n",
    "print(abs(sara_height - mark_height))"
   ]
  },
  {
   "cell_type": "code",
   "execution_count": 9,
   "metadata": {},
   "outputs": [
    {
     "data": {
      "text/plain": [
       "29.95"
      ]
     },
     "execution_count": 9,
     "metadata": {},
     "output_type": "execute_result"
    }
   ],
   "source": [
    "# part g\n",
    "min(34.99, 29.95, 31.50)"
   ]
  },
  {
   "cell_type": "code",
   "execution_count": 13,
   "metadata": {},
   "outputs": [
    {
     "name": "stdout",
     "output_type": "stream",
     "text": [
      "True\n",
      "False\n",
      "True\n"
     ]
    }
   ],
   "source": [
    "# 10\n",
    "a = 2\n",
    "b = 3\n",
    "x = a < b\n",
    "print(x)\n",
    "y = b < a\n",
    "print(y)\n",
    "z = (5 - 1) > (2 + 1)\n",
    "print(z)"
   ]
  },
  {
   "cell_type": "code",
   "execution_count": 15,
   "metadata": {},
   "outputs": [
    {
     "name": "stdout",
     "output_type": "stream",
     "text": [
      "True\n",
      "True\n",
      "False\n",
      "True\n",
      "False\n",
      "True\n"
     ]
    }
   ],
   "source": [
    "# 11\n",
    "print(3 == 3)\n",
    "print((3 + 5) == (4 + 4))\n",
    "print(3 == (5 - 3))\n",
    "print(3 <= 4)\n",
    "print(3 >= 4)\n",
    "print(3 != 4)"
   ]
  },
  {
   "cell_type": "code",
   "execution_count": 10,
   "metadata": {},
   "outputs": [
    {
     "data": {
      "text/plain": [
       "False"
      ]
     },
     "execution_count": 10,
     "metadata": {},
     "output_type": "execute_result"
    }
   ],
   "source": [
    "# exercise 2.2\n",
    "# part a\n",
    "2 + 2 < 4"
   ]
  },
  {
   "cell_type": "code",
   "execution_count": 11,
   "metadata": {},
   "outputs": [
    {
     "data": {
      "text/plain": [
       "True"
      ]
     },
     "execution_count": 11,
     "metadata": {},
     "output_type": "execute_result"
    }
   ],
   "source": [
    "# part b\n",
    "7 // 3 == 1 + 1"
   ]
  },
  {
   "cell_type": "code",
   "execution_count": 12,
   "metadata": {},
   "outputs": [
    {
     "data": {
      "text/plain": [
       "True"
      ]
     },
     "execution_count": 12,
     "metadata": {},
     "output_type": "execute_result"
    }
   ],
   "source": [
    "# part c\n",
    "3 ** 2 + 4 ** 2 == 25"
   ]
  },
  {
   "cell_type": "code",
   "execution_count": 13,
   "metadata": {},
   "outputs": [
    {
     "data": {
      "text/plain": [
       "False"
      ]
     },
     "execution_count": 13,
     "metadata": {},
     "output_type": "execute_result"
    }
   ],
   "source": [
    "# part d\n",
    "2 + 4 + 6 > 12"
   ]
  },
  {
   "cell_type": "code",
   "execution_count": 15,
   "metadata": {},
   "outputs": [
    {
     "data": {
      "text/plain": [
       "True"
      ]
     },
     "execution_count": 15,
     "metadata": {},
     "output_type": "execute_result"
    }
   ],
   "source": [
    "# part e\n",
    "1387 % 19 == 0"
   ]
  },
  {
   "cell_type": "code",
   "execution_count": 16,
   "metadata": {},
   "outputs": [
    {
     "data": {
      "text/plain": [
       "False"
      ]
     },
     "execution_count": 16,
     "metadata": {},
     "output_type": "execute_result"
    }
   ],
   "source": [
    "# part f\n",
    "31 % 2 == 0"
   ]
  },
  {
   "cell_type": "code",
   "execution_count": 17,
   "metadata": {},
   "outputs": [
    {
     "data": {
      "text/plain": [
       "True"
      ]
     },
     "execution_count": 17,
     "metadata": {},
     "output_type": "execute_result"
    }
   ],
   "source": [
    "# part g\n",
    "min(34.99, 29.95, 31.50) < 30.00"
   ]
  },
  {
   "cell_type": "code",
   "execution_count": 17,
   "metadata": {},
   "outputs": [
    {
     "name": "stdout",
     "output_type": "stream",
     "text": [
      "False\n",
      "True\n",
      "True\n",
      "False\n",
      "False\n"
     ]
    }
   ],
   "source": [
    "# 12\n",
    "print((2 < 3) and (4 > 5))\n",
    "print((2 < 3) and True)\n",
    "print((3 < 4) or (4 < 3))\n",
    "print((3 < 2) or (2 < 1))\n",
    "print(not(3 < 4))"
   ]
  },
  {
   "cell_type": "code",
   "execution_count": 19,
   "metadata": {},
   "outputs": [
    {
     "name": "stdout",
     "output_type": "stream",
     "text": [
      "4\n",
      "16\n",
      "16\n"
     ]
    }
   ],
   "source": [
    "# 13\n",
    "x = 4\n",
    "print(x)\n",
    "print(4 * x)\n",
    "counter = 4 * x\n",
    "print(counter)"
   ]
  },
  {
   "cell_type": "code",
   "execution_count": 30,
   "metadata": {},
   "outputs": [
    {
     "name": "stdout",
     "output_type": "stream",
     "text": [
      "28\n"
     ]
    }
   ],
   "source": [
    "# exercise 2.3\n",
    "# part a\n",
    "a = 3\n",
    "# part b\n",
    "b = 4\n",
    "# part c\n",
    "c = (a * b) + (b * b)\n",
    "print(c)"
   ]
  },
  {
   "cell_type": "code",
   "execution_count": 21,
   "metadata": {},
   "outputs": [
    {
     "name": "stdout",
     "output_type": "stream",
     "text": [
      "7\n"
     ]
    }
   ],
   "source": [
    "# 14\n",
    "x = 4\n",
    "x = 7\n",
    "print(x)"
   ]
  },
  {
   "cell_type": "code",
   "execution_count": 23,
   "metadata": {},
   "outputs": [
    {
     "name": "stdout",
     "output_type": "stream",
     "text": [
      "Hello, World\n",
      "hello\n",
      "True\n",
      "False\n",
      "True\n",
      "False\n",
      "helloworld\n",
      "hello world\n"
     ]
    }
   ],
   "source": [
    "# 15\n",
    "print(\"Hello, World\")\n",
    "s = \"hello\"\n",
    "print(s)\n",
    "s == \"hello\"\n",
    "t = \"world\"\n",
    "print(s != t)\n",
    "print(s == t)\n",
    "print(s < t)\n",
    "print(s > t)\n",
    "print( s + t)\n",
    "print(s + ' ' + t)"
   ]
  },
  {
   "cell_type": "code",
   "execution_count": 29,
   "metadata": {},
   "outputs": [
    {
     "name": "stdout",
     "output_type": "stream",
     "text": [
      "True\n",
      "False\n",
      "True\n",
      "5\n",
      "h\n",
      "e\n",
      "o\n",
      "o\n",
      "l\n"
     ]
    }
   ],
   "source": [
    "# 16\n",
    "s = \"hello\"\n",
    "print('h' in s)\n",
    "print('g' in s)\n",
    "print('ll' in s)\n",
    "print(len(s))\n",
    "print(s[0])\n",
    "print(s[1])\n",
    "print(s[4])\n",
    "print(s[-1])\n",
    "print(s[-2])"
   ]
  },
  {
   "cell_type": "code",
   "execution_count": 35,
   "metadata": {},
   "outputs": [
    {
     "name": "stdout",
     "output_type": "stream",
     "text": [
      "ant bat cod\n",
      "ant ant ant ant ant ant ant ant ant ant \n",
      "antbat bat cod cod cod \n",
      "ant bat ant bat ant bat ant bat ant bat ant bat ant bat \n",
      "batbatcod batbatcod batbatcod batbatcod batbatcod \n"
     ]
    }
   ],
   "source": [
    "# Exercise 2.4\n",
    "s1 = \"ant\"\n",
    "s2 = \"bat\"\n",
    "s3 = \"cod\"\n",
    "# part a\n",
    "print(s1 + \" \" + s2 + \" \" + s3)\n",
    "# part b\n",
    "print(10 * (s1 + \" \"))\n",
    "# part c\n",
    "print(s1 + \"\" + (2 * (s2 + \" \")) + (3 * (s3 + \" \")))\n",
    "# part d\n",
    "print(7 * (s1 + \" \" + s2 + \" \"))\n",
    "# part e\n",
    "print(5 * (s2 + s2 + s3 + \" \"))"
   ]
  },
  {
   "cell_type": "code",
   "execution_count": 37,
   "metadata": {},
   "outputs": [
    {
     "name": "stdout",
     "output_type": "stream",
     "text": [
      "0\n",
      "1\n",
      "6\n",
      "8\n",
      "9\n"
     ]
    }
   ],
   "source": [
    "# exercise 2.5\n",
    "s = \"0123456789\"\n",
    "print(s[0])\n",
    "print(s[1])\n",
    "print(s[6])\n",
    "print(s[8])\n",
    "print(s[9])"
   ]
  },
  {
   "cell_type": "code",
   "execution_count": 43,
   "metadata": {},
   "outputs": [
    {
     "name": "stdout",
     "output_type": "stream",
     "text": [
      "goldfsh\n",
      "dog\n",
      "dog\n",
      "3\n",
      "['goldfsh', 'cat', 'dog', 'goldfsh', 'cat', 'dog']\n",
      "['goldfsh', 'cat', 'dog', 'goldfsh', 'cat', 'dog']\n",
      "False\n",
      "True\n",
      "['goldfsh', 'cymric cat', 'dog']\n",
      "['goldfsh', 'cymric cat', 'dog', 'guinea pig']\n",
      "['goldfsh', 'cymric cat', 'dog', 'guinea pig', 'dog']\n",
      "['goldfsh', 'cymric cat', 'dog', 'guinea pig', 'dog']\n",
      "['goldfsh', 'cymric cat', 'guinea pig', 'dog']\n",
      "['dog', 'guinea pig', 'cymric cat', 'goldfsh']\n",
      "['cymric cat', 'dog', 'goldfsh', 'guinea pig']\n"
     ]
    }
   ],
   "source": [
    "# 17\n",
    "pets = ['goldfsh', 'cat', 'dog']\n",
    "print(pets[0])\n",
    "print(pets[2])\n",
    "print(pets[-1])\n",
    "print(len(pets))\n",
    "print(pets + pets)\n",
    "print(pets * 2)\n",
    "print('rabit' in pets)\n",
    "print('dog' in pets)\n",
    "pets[1] = 'cymric cat'\n",
    "print(pets)\n",
    "pets.append('guinea pig')\n",
    "print(pets)\n",
    "pets.append('dog')\n",
    "print(pets)\n",
    "pets.count('dog')\n",
    "print(pets)\n",
    "pets.remove('dog')\n",
    "print(pets)\n",
    "pets.reverse()\n",
    "print(pets)\n",
    "pets.sort()\n",
    "print(pets)"
   ]
  },
  {
   "cell_type": "code",
   "execution_count": 34,
   "metadata": {},
   "outputs": [
    {
     "name": "stdout",
     "output_type": "stream",
     "text": [
      "19.99\n",
      "120.99\n",
      "199.46999999999997\n"
     ]
    }
   ],
   "source": [
    "# 18\n",
    "lst = [23.99, 19.99, 34.50, 120.99]\n",
    "print(min(lst))\n",
    "print(max(lst))\n",
    "print(sum(lst))"
   ]
  },
  {
   "cell_type": "code",
   "execution_count": 50,
   "metadata": {},
   "outputs": [
    {
     "name": "stdout",
     "output_type": "stream",
     "text": [
      "badminton\n",
      "bat\n"
     ]
    }
   ],
   "source": [
    "# exercise 2.6\n",
    "words = [\"bat\", \"ball\", \"barn\", \"basket\", \"badminton\"]\n",
    "print(min(words))\n",
    "print(max(words))"
   ]
  },
  {
   "cell_type": "code",
   "execution_count": 39,
   "metadata": {},
   "outputs": [
    {
     "name": "stdout",
     "output_type": "stream",
     "text": [
      "('Mo', 'Tu', 'We')\n",
      "('Mo', 'Tu', 'We', 'Th')\n",
      "False\n",
      "('Mo', 'Tu', 'We', 'Th', 'Fr', 'Sa', 'Su')\n",
      "7\n",
      "('Mo', 'Tu', 'We', 'Th', 'Fr', 'Sa', 'Su', 'Mo', 'Tu', 'We', 'Th', 'Fr', 'Sa', 'Su')\n",
      "We\n"
     ]
    }
   ],
   "source": [
    "# 19\n",
    "days = ('Mo', 'Tu', 'We')\n",
    "print(days)\n",
    "days = ('Mo', 'Tu', 'We', 'Th')\n",
    "print(days)\n",
    "print('Fr' in days)\n",
    "week = days + ('Fr', 'Sa', 'Su')\n",
    "print(week)\n",
    "print(len(week))\n",
    "print(2 * week)\n",
    "print(days[2])"
   ]
  },
  {
   "cell_type": "code",
   "execution_count": 40,
   "metadata": {},
   "outputs": [
    {
     "name": "stdout",
     "output_type": "stream",
     "text": [
      "4\n"
     ]
    }
   ],
   "source": [
    "# 20\n",
    "numbers = [6, 9, 4, 22]\n",
    "print(min(numbers))"
   ]
  },
  {
   "cell_type": "code",
   "execution_count": 44,
   "metadata": {},
   "outputs": [
    {
     "name": "stdout",
     "output_type": "stream",
     "text": [
      "[2, 4, 5, 8]\n"
     ]
    }
   ],
   "source": [
    "# 21\n",
    "lst = [4, 2, 8, 5]\n",
    "lst.sort()\n",
    "print(lst)"
   ]
  },
  {
   "cell_type": "code",
   "execution_count": 47,
   "metadata": {},
   "outputs": [
    {
     "name": "stdout",
     "output_type": "stream",
     "text": [
      "2\n",
      "[9, 7, 7, 10, 3, 9, 6, 6, 4]\n",
      "10\n",
      "[3, 4, 6, 6, 7, 7, 9, 9, 10]\n",
      "6.777777777777778\n"
     ]
    }
   ],
   "source": [
    "# exercise 2.7\n",
    "grades =[9, 7, 7, 10, 3, 9, 6, 6, 2]\n",
    "# part a\n",
    "print(grades.count(7))\n",
    "# part b\n",
    "grades[-1] = 4\n",
    "print(grades)\n",
    "# part c\n",
    "print(max(grades))\n",
    "# part d\n",
    "grades.sort()\n",
    "print(grades)\n",
    "# part e\n",
    "average = sum(grades) / 9\n",
    "print(average)"
   ]
  },
  {
   "cell_type": "code",
   "execution_count": 48,
   "metadata": {},
   "outputs": [
    {
     "name": "stdout",
     "output_type": "stream",
     "text": [
      "<class 'int'>\n",
      "<class 'float'>\n",
      "<class 'str'>\n",
      "<class 'list'>\n",
      "<class 'int'>\n"
     ]
    }
   ],
   "source": [
    "# 22\n",
    "print(type(3))\n",
    "print(type(3.0))\n",
    "print(type(\"Hello world\"))\n",
    "print(type([1, 1, 2, 3, 5, 8]))\n",
    "\n",
    "a = 3\n",
    "print(type(a))"
   ]
  },
  {
   "cell_type": "code",
   "execution_count": 55,
   "metadata": {},
   "outputs": [
    {
     "name": "stdout",
     "output_type": "stream",
     "text": [
      "179769313486231590772930519078902473361797697894230657273430081157732675805500963132708477322407536021120113879871393357658789768814416622492847430639474124377767893424865485276302219601246094119453082952085005768838150682342462881473913110540827237163350510684586298239947245938479716304835356329624224137216\n",
      "\n",
      "\n",
      "1073741824.0\n"
     ]
    }
   ],
   "source": [
    "# 23\n",
    "x = 2 ** 1024\n",
    "print(x)\n",
    "\n",
    "print(\"\\n\")\n",
    "\n",
    "pi = 3.141592653589793\n",
    "print(2.0 ** 30)"
   ]
  },
  {
   "cell_type": "code",
   "execution_count": 60,
   "metadata": {},
   "outputs": [
    {
     "name": "stdout",
     "output_type": "stream",
     "text": [
      "True\n",
      "7\n",
      "0\n",
      "0\n"
     ]
    }
   ],
   "source": [
    "# 24\n",
    "print((3 <= 3) < 4)\n",
    "print((2 * 3) + 1)\n",
    "print(2 - 3 + 1)\n",
    "print((2 - 3) + 1)"
   ]
  },
  {
   "cell_type": "code",
   "execution_count": 56,
   "metadata": {},
   "outputs": [
    {
     "data": {
      "text/plain": [
       "False"
      ]
     },
     "execution_count": 56,
     "metadata": {},
     "output_type": "execute_result"
    }
   ],
   "source": [
    "# exercise 2.8\n",
    "# part a\n",
    "((2 + 3) == 4) or (a >= 5)"
   ]
  },
  {
   "cell_type": "code",
   "execution_count": 59,
   "metadata": {},
   "outputs": [
    {
     "data": {
      "text/plain": [
       "True"
      ]
     },
     "execution_count": 59,
     "metadata": {},
     "output_type": "execute_result"
    }
   ],
   "source": [
    "# part b\n",
    "(((lst[1]) * (-3)) < (-10)) == 0"
   ]
  },
  {
   "cell_type": "code",
   "execution_count": 58,
   "metadata": {},
   "outputs": [
    {
     "data": {
      "text/plain": [
       "True"
      ]
     },
     "execution_count": 58,
     "metadata": {},
     "output_type": "execute_result"
    }
   ],
   "source": [
    "# part c\n",
    "((lst[1]) * (-3) < (-10)) in [0, True]"
   ]
  },
  {
   "cell_type": "code",
   "execution_count": 60,
   "metadata": {},
   "outputs": [
    {
     "data": {
      "text/plain": [
       "18"
      ]
     },
     "execution_count": 60,
     "metadata": {},
     "output_type": "execute_result"
    }
   ],
   "source": [
    "# part d\n",
    "(2 * (3 ** 2))"
   ]
  },
  {
   "cell_type": "code",
   "execution_count": 61,
   "metadata": {},
   "outputs": [
    {
     "data": {
      "text/plain": [
       "True"
      ]
     },
     "execution_count": 61,
     "metadata": {},
     "output_type": "execute_result"
    }
   ],
   "source": [
    "# part e\n",
    "4 / 2 in [1, 2, 3]"
   ]
  },
  {
   "cell_type": "code",
   "execution_count": 62,
   "metadata": {},
   "outputs": [
    {
     "name": "stdout",
     "output_type": "stream",
     "text": [
      "3\n",
      "0\n",
      "0.0\n",
      "\n",
      "[]\n",
      "6\n",
      "3.35\n",
      "3\n",
      "-3\n",
      "3.0\n",
      "3.4\n",
      "2.72\n"
     ]
    }
   ],
   "source": [
    "# 25\n",
    "x = 3\n",
    "print(x)\n",
    "\n",
    "x = int()\n",
    "print(x)\n",
    "\n",
    "y = float()\n",
    "print(y)\n",
    "\n",
    "s = str()\n",
    "print(s)\n",
    "\n",
    "lst = list()\n",
    "print(lst)\n",
    "\n",
    "print(True + 5)\n",
    "\n",
    "print(3 + 0.35)\n",
    "\n",
    "print(int(3.4))\n",
    "print(int(-3.6))\n",
    "print(float(3))\n",
    "print(float(3.4))\n",
    "print(str(2.72))\n"
   ]
  },
  {
   "cell_type": "code",
   "execution_count": 66,
   "metadata": {},
   "outputs": [
    {
     "name": "stdout",
     "output_type": "stream",
     "text": [
      "<class 'int'>\n"
     ]
    }
   ],
   "source": [
    "# exercise 2.9\n",
    "# part a\n",
    "print(type(False + False))"
   ]
  },
  {
   "cell_type": "code",
   "execution_count": 67,
   "metadata": {},
   "outputs": [
    {
     "name": "stdout",
     "output_type": "stream",
     "text": [
      "<class 'float'>\n"
     ]
    }
   ],
   "source": [
    "# part b\n",
    "print(type(2 * (3 ** 2.0)))"
   ]
  },
  {
   "cell_type": "code",
   "execution_count": 69,
   "metadata": {},
   "outputs": [
    {
     "name": "stdout",
     "output_type": "stream",
     "text": [
      "<class 'int'>\n"
     ]
    }
   ],
   "source": [
    "# part c\n",
    "print(type((4 // 2) + (4 % 2)))"
   ]
  },
  {
   "cell_type": "code",
   "execution_count": 70,
   "metadata": {},
   "outputs": [
    {
     "name": "stdout",
     "output_type": "stream",
     "text": [
      "<class 'bool'>\n"
     ]
    }
   ],
   "source": [
    "# part d\n",
    "print(type((2 + 3 == 4) or (5 >= 5)))"
   ]
  },
  {
   "cell_type": "code",
   "execution_count": 64,
   "metadata": {},
   "outputs": [
    {
     "name": "stdout",
     "output_type": "stream",
     "text": [
      "1.7320508075688772\n"
     ]
    }
   ],
   "source": [
    "# 26\n",
    "import math\n",
    "x = math.sqrt(3)\n",
    "print(x)"
   ]
  },
  {
   "cell_type": "code",
   "execution_count": 73,
   "metadata": {},
   "outputs": [],
   "source": [
    "# exercise 2.10\n",
    "# part a\n",
    "from math import sqrt\n",
    "perpendicular = a\n",
    "base = b\n",
    "hypotenuse = sqrt((a ** 2) + (b ** 2))\n",
    "# part b\n",
    "hypotenuse = sqrt((a ** 2) + (b ** 2)) == 5\n",
    "# part c\n",
    "from math import pi\n",
    "radius = a\n",
    "area = pi * radius ** 2\n",
    "# part d\n",
    "radius = r\n",
    "(x - a) ** 2 + (y - b) ** 2 < r ** 2"
   ]
  },
  {
   "cell_type": "code",
   "execution_count": 66,
   "metadata": {},
   "outputs": [
    {
     "name": "stdout",
     "output_type": "stream",
     "text": [
      "3/4\n",
      "1/2\n",
      "5/4\n"
     ]
    }
   ],
   "source": [
    "# 27\n",
    "import fractions\n",
    "a = fractions.Fraction(3,4)\n",
    "b = fractions.Fraction(1,2)\n",
    "print(a)\n",
    "print(b)\n",
    "c = a + b\n",
    "print(c)"
   ]
  },
  {
   "cell_type": "code",
   "execution_count": 71,
   "metadata": {},
   "outputs": [
    {
     "name": "stdout",
     "output_type": "stream",
     "text": [
      "-28\n",
      "10.651685393258427\n",
      "9.5367431640625e-07\n",
      "The number of times 61 goes into 4356 is:  71\n",
      "The reminder when 4356 is divided by 61:  25\n"
     ]
    }
   ],
   "source": [
    "# exercise 2.11\n",
    "# part a\n",
    "lst = [-7, -6, -5, -4, -3, -2, -1]\n",
    "x = sum(lst)\n",
    "print(x)\n",
    "\n",
    "# part b\n",
    "total_kids = 89\n",
    "average = ((17 * 9) + (24 * 10) + (21 * 11) + (27 * 12)) / total_kids\n",
    "print(average)\n",
    "\n",
    "# part c\n",
    "print(2 ** -20)\n",
    "\n",
    "# part d\n",
    "print(\"The number of times 61 goes into 4356 is: \", 4356 // 61)\n",
    "\n",
    "# part e\n",
    "print(\"The reminder when 4356 is divided by 61: \", 4356 % 61)"
   ]
  },
  {
   "cell_type": "code",
   "execution_count": 74,
   "metadata": {},
   "outputs": [
    {
     "name": "stdout",
     "output_type": "stream",
     "text": [
      "-+\n",
      "-+-\n",
      "+--\n",
      "+--+--\n",
      "+--+--+--+--+--+--+--+--+--+--+--\n",
      "+-+++--+-+++--+-+++--+-+++--+-+++--\n"
     ]
    }
   ],
   "source": [
    "# Exercise 2.12\n",
    "s1 = '-'\n",
    "s2 = '+'\n",
    "# part a\n",
    "print(s1 + s2)\n",
    "# part b\n",
    "print(s1 + s2 + s1)\n",
    "# part c\n",
    "print(s2 + s1 * 2)\n",
    "# part d\n",
    "print(2 * (s2 + (s1 * 2)))\n",
    "# part e\n",
    "print(11 * (s2 + (s1 * 2))) \n",
    "# part f\n",
    "print(5 * (s2 + s1 + (3 * s2) + (2 * s1)))"
   ]
  },
  {
   "cell_type": "code",
   "execution_count": 77,
   "metadata": {},
   "outputs": [
    {
     "name": "stdout",
     "output_type": "stream",
     "text": [
      "a\n",
      "c\n",
      "z\n",
      "y\n",
      "q\n"
     ]
    }
   ],
   "source": [
    "# exercise 2.13\n",
    "s = 'abcdefghijklmnopqrstuvwxyz'\n",
    "print(s[0])\n",
    "print(s[2])\n",
    "print(s[25])\n",
    "print(s[24])\n",
    "print(s[16])"
   ]
  },
  {
   "cell_type": "code",
   "execution_count": 94,
   "metadata": {},
   "outputs": [
    {
     "name": "stdout",
     "output_type": "stream",
     "text": [
      "True\n",
      "False\n",
      "False\n",
      "False\n",
      "True\n",
      "False\n"
     ]
    }
   ],
   "source": [
    "# exercise 2.14\n",
    "s = 'goodbye'\n",
    "# part a\n",
    "print(s[0] == 'g')\n",
    "# part b\n",
    "print(s[6] == 'g')\n",
    "# part c\n",
    "print(s[0] == 'g' and s[1] == 'a')\n",
    "# part d\n",
    "print(s[5] == 'x')\n",
    "# part e\n",
    "x = int(len(s) / 2)\n",
    "print(s[x] == 'd')\n",
    "# part f\n",
    "print(s[0] == s[-1])"
   ]
  },
  {
   "cell_type": "code",
   "execution_count": 95,
   "metadata": {},
   "outputs": [
    {
     "name": "stdout",
     "output_type": "stream",
     "text": [
      "True\n",
      "True\n",
      "True\n",
      "True\n"
     ]
    }
   ],
   "source": [
    "# exercise 2.15\n",
    "# part a\n",
    "x = len(\"anachronistically\")\n",
    "y = len(\"counterintuitive\")\n",
    "z = x == 1 + y\n",
    "print(z)\n",
    "\n",
    "# part b\n",
    "x = \"misinterpretation\"\n",
    "y = \"misrepresentation\"\n",
    "z = x < y\n",
    "print(z)\n",
    "\n",
    "# part c\n",
    "x = \"floccinaucinihilipilification\"\n",
    "y = x.find != \"e\"\n",
    "print(y)\n",
    "\n",
    "# part d\n",
    "x = len(\"counterrevolution\")\n",
    "y = len(\"counter\")\n",
    "z = len(\"resolution\")\n",
    "lengthOfYZ = y + z\n",
    "total = x == lengthOfYZ\n",
    "print(total)"
   ]
  },
  {
   "cell_type": "code",
   "execution_count": 96,
   "metadata": {},
   "outputs": [
    {
     "name": "stdout",
     "output_type": "stream",
     "text": [
      "6.5\n",
      "My fullname is John Fitzgerald Kennedy\n"
     ]
    }
   ],
   "source": [
    "# exercise 2.16\n",
    "# part a\n",
    "a = 6\n",
    "b = 7\n",
    "# part b\n",
    "c = ((a + b) / 2)\n",
    "print(c)\n",
    "# part c\n",
    "inventory = ['paper', 'staples', 'pencils']\n",
    "# part d\n",
    "first = 'John'\n",
    "middle = 'Fitzgerald'\n",
    "last = 'Kennedy'\n",
    "# part e\n",
    "fullname = first + \" \" + middle + \" \" + last\n",
    "print(\"My fullname is \" + fullname)"
   ]
  },
  {
   "cell_type": "code",
   "execution_count": 105,
   "metadata": {},
   "outputs": [
    {
     "name": "stdout",
     "output_type": "stream",
     "text": [
      "True\n",
      "3\n",
      "23\n",
      "False\n",
      "False\n",
      "4\n",
      "10\n",
      "7\n",
      "False\n"
     ]
    }
   ],
   "source": [
    "# exercise 2.17\n",
    "# part a\n",
    "print((17 - 9) < 10)\n",
    "# part b\n",
    "inventory = ['paper', 'staples', 'pencils']\n",
    "x = len(inventory)\n",
    "print(x)\n",
    "fullname = \"John Fitzgerald Kennedy\"\n",
    "y = len(fullname)\n",
    "print(y)\n",
    "print((5 * x) > y)\n",
    "# part c\n",
    "a = 6\n",
    "b = 7\n",
    "c = ((a + b) / 2)\n",
    "print(c > 24)\n",
    "# part d\n",
    "first = 'John'\n",
    "x = len(first)\n",
    "print(x)\n",
    "middle = 'Fitzgerald'\n",
    "y = len(middle)\n",
    "print(y)\n",
    "last = 'Kennedy'\n",
    "z = len(last)\n",
    "print(z)\n",
    "print(y > x and y < z)"
   ]
  },
  {
   "cell_type": "code",
   "execution_count": 118,
   "metadata": {},
   "outputs": [
    {
     "name": "stdout",
     "output_type": "stream",
     "text": [
      "False\n",
      "['rose', 'bougainvillea', 'yucca']\n",
      "['lilly of valley']\n",
      "['rose', 'bougainvillea', 'yucca', 'lilly of valley']\n"
     ]
    }
   ],
   "source": [
    "# exercise 2.18\n",
    "# part a\n",
    "flower = ['rose', 'bougainvillea', 'yucca', 'marigold', 'daylilly', 'lilly of valley']\n",
    "# part b\n",
    "print('potato' in flower)\n",
    "# part c\n",
    "thorny = flower[0:3]\n",
    "print(thorny)\n",
    "# part d\n",
    "poisonous = flower[5:6]\n",
    "print(poisonous)\n",
    "# part e\n",
    "dangerous = thorny + poisonous\n",
    "print(dangerous)"
   ]
  }
 ],
 "metadata": {
  "kernelspec": {
   "display_name": "Python 3",
   "language": "python",
   "name": "python3"
  },
  "language_info": {
   "codemirror_mode": {
    "name": "ipython",
    "version": 3
   },
   "file_extension": ".py",
   "mimetype": "text/x-python",
   "name": "python",
   "nbconvert_exporter": "python",
   "pygments_lexer": "ipython3",
   "version": "3.7.3"
  }
 },
 "nbformat": 4,
 "nbformat_minor": 2
}
